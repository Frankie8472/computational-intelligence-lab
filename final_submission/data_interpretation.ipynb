{
 "cells": [
  {
   "cell_type": "markdown",
   "metadata": {},
   "source": [
    "# Data Interpretation\n",
    "Plot and try to make some intelligent interpretation about the data."
   ]
  },
  {
   "cell_type": "code",
   "execution_count": 1,
   "metadata": {},
   "outputs": [],
   "source": [
    "import numpy as np\n",
    "import pandas as pd\n",
    "import re\n",
    "from matplotlib import pyplot as plt"
   ]
  },
  {
   "cell_type": "code",
   "execution_count": 2,
   "metadata": {},
   "outputs": [],
   "source": [
    "users = 10000\n",
    "movies = 1000"
   ]
  },
  {
   "cell_type": "code",
   "execution_count": 3,
   "metadata": {},
   "outputs": [],
   "source": [
    "# Read in data\n",
    "data = pd.read_csv('input/data_train.csv', header=0)"
   ]
  },
  {
   "cell_type": "code",
   "execution_count": 4,
   "metadata": {
    "scrolled": true
   },
   "outputs": [
    {
     "data": {
      "text/plain": [
       "1176952"
      ]
     },
     "execution_count": 4,
     "metadata": {},
     "output_type": "execute_result"
    }
   ],
   "source": [
    "# Number of ratings\n",
    "ratings = len(data)\n",
    "ratings"
   ]
  },
  {
   "cell_type": "code",
   "execution_count": 5,
   "metadata": {},
   "outputs": [
    {
     "data": {
      "text/plain": [
       "0.1176952"
      ]
     },
     "execution_count": 5,
     "metadata": {},
     "output_type": "execute_result"
    }
   ],
   "source": [
    "# Percentage of known ratings\n",
    "ratings/(10000*1000)"
   ]
  },
  {
   "cell_type": "code",
   "execution_count": 6,
   "metadata": {},
   "outputs": [],
   "source": [
    "# Put it into a matrix A\n",
    "A = np.zeros((users,movies))\n",
    "\n",
    "for r in range(data.shape[0]):\n",
    "    position = data.iloc[r,0]\n",
    "    # parse\n",
    "    i = int(re.search('r[0-9]*_',position).group(0)[1:-1])-1\n",
    "    j = int(re.search('c[0-9]*',position).group(0)[1:])-1\n",
    "    A[i,j] = data.iloc[r,1]"
   ]
  },
  {
   "cell_type": "code",
   "execution_count": 7,
   "metadata": {
    "scrolled": false
   },
   "outputs": [
    {
     "data": {
      "image/png": "[encoded data removed]",
      "text/plain": [
       "<Figure size 432x288 with 1 Axes>"
      ]
     },
     "metadata": {
      "needs_background": "light"
     },
     "output_type": "display_data"
    }
   ],
   "source": [
    "# Percentage of known ratings per user\n",
    "known_ratio_per_user = np.zeros((users, 1))\n",
    "\n",
    "for i in range(users):\n",
    "    known = np.count_nonzero(A[i,:])\n",
    "    known_ratio_per_user[i,0] = known/movies\n",
    "\n",
    "figure = plt.figure()\n",
    "plt.hist(known_ratio_per_user.T[0], bins=50)\n",
    "plt.xlabel('percentage of known ratings per user')\n",
    "plt.ylabel('number of users')\n",
    "#figure.savefig('percentage_of_known_ratings_user.jpg')"
   ]
  },
  {
   "cell_type": "code",
   "execution_count": 8,
   "metadata": {},
   "outputs": [
    {
     "data": {
      "text/plain": [
       "117.6952"
      ]
     },
     "execution_count": 8,
     "metadata": {},
     "output_type": "execute_result"
    }
   ],
   "source": [
    "# Average number of ratings per user\n",
    "np.mean(known_ratio_per_user)*movies"
   ]
  },
  {
   "cell_type": "code",
   "execution_count": 9,
   "metadata": {},
   "outputs": [
    {
     "data": {
      "image/png": "[encoded data removed]",
      "text/plain": [
       "<Figure size 432x288 with 1 Axes>"
      ]
     },
     "metadata": {
      "needs_background": "light"
     },
     "output_type": "display_data"
    }
   ],
   "source": [
    "# Number of known ratings per movie\n",
    "movie_ratings = np.zeros((movies,1))\n",
    "for i in range(movies):\n",
    "    movie_ratings[i] = np.count_nonzero(A[:,i])/users\n",
    "\n",
    "figure = plt.figure()\n",
    "plt.hist(movie_ratings.T[0], bins=50)\n",
    "plt.xlabel('percentage of known ratings per movie')\n",
    "plt.ylabel('number of movies')\n",
    "#figure.savefig('percentage_of_known_ratings_movie.jpg')"
   ]
  },
  {
   "cell_type": "code",
   "execution_count": 10,
   "metadata": {},
   "outputs": [
    {
     "data": {
      "text/plain": [
       "1176.952"
      ]
     },
     "execution_count": 10,
     "metadata": {},
     "output_type": "execute_result"
    }
   ],
   "source": [
    "# Average number of ratings per movie\n",
    "np.mean(movie_ratings)*users"
   ]
  },
  {
   "cell_type": "code",
   "execution_count": 11,
   "metadata": {
    "scrolled": true
   },
   "outputs": [
    {
     "data": {
      "image/png": "[encoded data removed]",
      "text/plain": [
       "<Figure size 432x288 with 1 Axes>"
      ]
     },
     "metadata": {
      "needs_background": "light"
     },
     "output_type": "display_data"
    }
   ],
   "source": [
    "# Compare frequency of ratings\n",
    "rating_frequency = np.zeros(5)\n",
    "for i in range(5):\n",
    "    rating_frequency[i] = np.count_nonzero(A==i+1)\n",
    "x = np.arange(start=1, stop=6)\n",
    "fig, ax = plt.subplots()\n",
    "plt.bar(x,rating_frequency)\n",
    "plt.xlabel('rating')\n",
    "plt.ylabel('count')\n",
    "#fig.savefig('rating_distribution.jpg')"
   ]
  },
  {
   "cell_type": "code",
   "execution_count": 12,
   "metadata": {},
   "outputs": [
    {
     "data": {
      "text/plain": [
       "array([0.03696667, 0.08426852, 0.23308257, 0.27588211, 0.36980013])"
      ]
     },
     "execution_count": 12,
     "metadata": {},
     "output_type": "execute_result"
    }
   ],
   "source": [
    "rating_freq_percentage = rating_frequency/np.sum(rating_frequency)\n",
    "rating_freq_percentage"
   ]
  }
 ],
 "metadata": {
  "kernelspec": {
   "display_name": "Python 3",
   "language": "python",
   "name": "python3"
  },
  "language_info": {
   "codemirror_mode": {
    "name": "ipython",
    "version": 3
   },
   "file_extension": ".py",
   "mimetype": "text/x-python",
   "name": "python",
   "nbconvert_exporter": "python",
   "pygments_lexer": "ipython3",
   "version": "3.7.3"
  }
 },
 "nbformat": 4,
 "nbformat_minor": 4
}
